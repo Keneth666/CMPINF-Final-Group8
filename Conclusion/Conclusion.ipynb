{
 "cells": [
  {
   "cell_type": "markdown",
   "id": "2a51a60a-4923-49dc-a0b7-3ebf0e275acf",
   "metadata": {},
   "source": [
    "## Introduction\n",
    "\n",
    "In this notebook, we will discuss the best neighborhood based on three of our metrics. We will analyze three metrics: \n",
    "- Incident Level\n",
    "- Traffic Signs\n",
    "- Aggregate Household Income"
   ]
  },
  {
   "cell_type": "code",
   "execution_count": 1,
   "id": "6a3c4c06-3924-401c-b921-afb49cc20c99",
   "metadata": {},
   "outputs": [
    {
     "name": "stdout",
     "output_type": "stream",
     "text": [
      "/ihome/cmpinf0010_2025s/xil458/CMPINF-Final-Group8/Conclusion\n"
     ]
    }
   ],
   "source": [
    "import os\n",
    "print(os.getcwd())\n"
   ]
  },
  {
   "cell_type": "markdown",
   "id": "b1f58d6d-88cd-43c0-b4fd-359e90acec30",
   "metadata": {},
   "source": [
    "---"
   ]
  },
  {
   "cell_type": "markdown",
   "id": "42610bea-7783-4c22-8c01-8c8d0ea869bd",
   "metadata": {},
   "source": [
    "**1. Incident Level** \n",
    "\n",
    "Xiang's metric analyzes the incident number in each neighborhood. Since the higher hierarchy level stands for more severity of incidents, the metric then counts the total hierarchy level of each neighborhood by adding the individual incident's hierarchy level together:"
   ]
  },
  {
   "cell_type": "code",
   "execution_count": 2,
   "id": "306fe001-8c0b-497c-814f-3d38d201a77d",
   "metadata": {},
   "outputs": [
    {
     "data": {
      "text/html": [
       "<div>\n",
       "<style scoped>\n",
       "    .dataframe tbody tr th:only-of-type {\n",
       "        vertical-align: middle;\n",
       "    }\n",
       "\n",
       "    .dataframe tbody tr th {\n",
       "        vertical-align: top;\n",
       "    }\n",
       "\n",
       "    .dataframe thead th {\n",
       "        text-align: right;\n",
       "    }\n",
       "</style>\n",
       "<table border=\"1\" class=\"dataframe\">\n",
       "  <thead>\n",
       "    <tr style=\"text-align: right;\">\n",
       "      <th></th>\n",
       "      <th>hood</th>\n",
       "      <th>CrimeSeverity</th>\n",
       "    </tr>\n",
       "  </thead>\n",
       "  <tbody>\n",
       "    <tr>\n",
       "      <th>16</th>\n",
       "      <td>Central Business District</td>\n",
       "      <td>178248</td>\n",
       "    </tr>\n",
       "    <tr>\n",
       "      <th>71</th>\n",
       "      <td>South Side Flats</td>\n",
       "      <td>133605</td>\n",
       "    </tr>\n",
       "    <tr>\n",
       "      <th>15</th>\n",
       "      <td>Carrick</td>\n",
       "      <td>98564</td>\n",
       "    </tr>\n",
       "    <tr>\n",
       "      <th>13</th>\n",
       "      <td>Brookline</td>\n",
       "      <td>78351</td>\n",
       "    </tr>\n",
       "    <tr>\n",
       "      <th>52</th>\n",
       "      <td>Mount Washington</td>\n",
       "      <td>73313</td>\n",
       "    </tr>\n",
       "  </tbody>\n",
       "</table>\n",
       "</div>"
      ],
      "text/plain": [
       "                         hood  CrimeSeverity\n",
       "16  Central Business District         178248\n",
       "71           South Side Flats         133605\n",
       "15                    Carrick          98564\n",
       "13                  Brookline          78351\n",
       "52           Mount Washington          73313"
      ]
     },
     "execution_count": 2,
     "metadata": {},
     "output_type": "execute_result"
    }
   ],
   "source": [
    "import pandas as pd\n",
    "crime_with_neighborhood = pd.read_csv(\"crime_with_neighborhood.csv\")\n",
    "\n",
    "\n",
    "crime_weighted = crime_with_neighborhood.groupby(\"hood\")[\"HIERARCHY\"].sum().reset_index(name=\"CrimeSeverity\")\n",
    "\n",
    "crime_weighted = crime_weighted.sort_values(\"CrimeSeverity\", ascending=False)\n",
    "\n",
    "crime_weighted.head()"
   ]
  },
  {
   "cell_type": "markdown",
   "id": "16425b72-b357-44cc-bb93-85f9ed4ad201",
   "metadata": {},
   "source": [
    "Then, by using `MinMaxScaler`, the data is scaled into a value between 0 and 1. We call it the `safety score`, where the higher the score is, the less CrimeSeverity. "
   ]
  },
  {
   "cell_type": "code",
   "execution_count": 3,
   "id": "768da803-7a3f-4eb8-a7ee-14eb6eb92008",
   "metadata": {},
   "outputs": [
    {
     "data": {
      "text/html": [
       "<div>\n",
       "<style scoped>\n",
       "    .dataframe tbody tr th:only-of-type {\n",
       "        vertical-align: middle;\n",
       "    }\n",
       "\n",
       "    .dataframe tbody tr th {\n",
       "        vertical-align: top;\n",
       "    }\n",
       "\n",
       "    .dataframe thead th {\n",
       "        text-align: right;\n",
       "    }\n",
       "</style>\n",
       "<table border=\"1\" class=\"dataframe\">\n",
       "  <thead>\n",
       "    <tr style=\"text-align: right;\">\n",
       "      <th></th>\n",
       "      <th>hood</th>\n",
       "      <th>SafetyScore</th>\n",
       "    </tr>\n",
       "  </thead>\n",
       "  <tbody>\n",
       "    <tr>\n",
       "      <th>28</th>\n",
       "      <td>East Carnegie</td>\n",
       "      <td>1.000000</td>\n",
       "    </tr>\n",
       "    <tr>\n",
       "      <th>73</th>\n",
       "      <td>St. Clair</td>\n",
       "      <td>0.997511</td>\n",
       "    </tr>\n",
       "    <tr>\n",
       "      <th>64</th>\n",
       "      <td>Ridgemont</td>\n",
       "      <td>0.997348</td>\n",
       "    </tr>\n",
       "    <tr>\n",
       "      <th>37</th>\n",
       "      <td>New Homestead</td>\n",
       "      <td>0.995976</td>\n",
       "    </tr>\n",
       "    <tr>\n",
       "      <th>82</th>\n",
       "      <td>Swisshelm Park</td>\n",
       "      <td>0.992946</td>\n",
       "    </tr>\n",
       "  </tbody>\n",
       "</table>\n",
       "</div>"
      ],
      "text/plain": [
       "              hood  SafetyScore\n",
       "28   East Carnegie     1.000000\n",
       "73       St. Clair     0.997511\n",
       "64       Ridgemont     0.997348\n",
       "37   New Homestead     0.995976\n",
       "82  Swisshelm Park     0.992946"
      ]
     },
     "execution_count": 3,
     "metadata": {},
     "output_type": "execute_result"
    }
   ],
   "source": [
    "crime_safety_score = pd.read_csv(\"crime_safety_scores.csv\")\n",
    "\n",
    "crime_safety_score = crime_safety_score.sort_values(\"SafetyScore\", ascending=False)\n",
    "\n",
    "crime_safety_score.head()"
   ]
  },
  {
   "cell_type": "markdown",
   "id": "86327be8-f708-4e97-826e-fb84d87123ef",
   "metadata": {},
   "source": [
    "Safety score is more visualized and more convenient when combining all three metrics. "
   ]
  },
  {
   "cell_type": "markdown",
   "id": "dc62876d-7e4f-4195-a751-198c889df631",
   "metadata": {},
   "source": [
    "---"
   ]
  },
  {
   "cell_type": "markdown",
   "id": "350f742d-3ffb-4fa0-9cfa-a7058174a2ed",
   "metadata": {},
   "source": [
    "**2. Traffic Signs** \n",
    "\n",
    "Kim's analysis was the total amount of traffic signs in each neighborhood. This was used as a gauge of each neighborhood's average congestion. The idea was that stop, yield, or pedestrian traffic signs force drivers to stop on the road, which creates the potential for traffic jams. While *all* signs were counted, they should still give a picture of how many said stop, yield, or pedestrian signs are there.\n",
    "\n",
    "Each neighborhood's total amount was then converted into traffic scores using `MinMaxScaler`. The higher the traffic score is, the less traffic signs there are. It thus suggests that the neighborhood is less likely to get congested."
   ]
  },
  {
   "cell_type": "code",
   "execution_count": 4,
   "id": "5abc0d06-2ced-46c2-b15c-a8448ae32980",
   "metadata": {},
   "outputs": [
    {
     "data": {
      "text/html": [
       "<div>\n",
       "<style scoped>\n",
       "    .dataframe tbody tr th:only-of-type {\n",
       "        vertical-align: middle;\n",
       "    }\n",
       "\n",
       "    .dataframe tbody tr th {\n",
       "        vertical-align: top;\n",
       "    }\n",
       "\n",
       "    .dataframe thead th {\n",
       "        text-align: right;\n",
       "    }\n",
       "</style>\n",
       "<table border=\"1\" class=\"dataframe\">\n",
       "  <thead>\n",
       "    <tr style=\"text-align: right;\">\n",
       "      <th></th>\n",
       "      <th>hood</th>\n",
       "      <th>SignAmount</th>\n",
       "      <th>TrafficScore</th>\n",
       "    </tr>\n",
       "  </thead>\n",
       "  <tbody>\n",
       "    <tr>\n",
       "      <th>63</th>\n",
       "      <td>Arlington Heights</td>\n",
       "      <td>21</td>\n",
       "      <td>1.000000</td>\n",
       "    </tr>\n",
       "    <tr>\n",
       "      <th>88</th>\n",
       "      <td>Glen Hazel</td>\n",
       "      <td>38</td>\n",
       "      <td>0.995344</td>\n",
       "    </tr>\n",
       "    <tr>\n",
       "      <th>84</th>\n",
       "      <td>Chartiers City</td>\n",
       "      <td>44</td>\n",
       "      <td>0.993700</td>\n",
       "    </tr>\n",
       "    <tr>\n",
       "      <th>85</th>\n",
       "      <td>Ridgemont</td>\n",
       "      <td>62</td>\n",
       "      <td>0.988770</td>\n",
       "    </tr>\n",
       "    <tr>\n",
       "      <th>50</th>\n",
       "      <td>St. Clair</td>\n",
       "      <td>64</td>\n",
       "      <td>0.988222</td>\n",
       "    </tr>\n",
       "  </tbody>\n",
       "</table>\n",
       "</div>"
      ],
      "text/plain": [
       "                 hood  SignAmount  TrafficScore\n",
       "63  Arlington Heights          21      1.000000\n",
       "88         Glen Hazel          38      0.995344\n",
       "84     Chartiers City          44      0.993700\n",
       "85          Ridgemont          62      0.988770\n",
       "50          St. Clair          64      0.988222"
      ]
     },
     "execution_count": 4,
     "metadata": {},
     "output_type": "execute_result"
    }
   ],
   "source": [
    "traffic_score = pd.read_csv(\"traffic_scores.csv\")\n",
    "\n",
    "traffic_score = traffic_score.sort_values(\"TrafficScore\", ascending=False)\n",
    "traffic_score.head()"
   ]
  },
  {
   "cell_type": "markdown",
   "id": "8c84292f-9c75-4ceb-a544-2b8b23b12313",
   "metadata": {},
   "source": [
    "Based on this metric, Arlington Heights is the best neighborhood."
   ]
  },
  {
   "cell_type": "markdown",
   "id": "76b26bdf-a9f3-4e65-af93-adce6086de71",
   "metadata": {},
   "source": [
    "---"
   ]
  },
  {
   "cell_type": "markdown",
   "id": "052a2a2a-4082-49fc-ba24-ec5c97fb581f",
   "metadata": {},
   "source": [
    "**3. Aggregate Household Income**"
   ]
  },
  {
   "cell_type": "markdown",
   "id": "ad4d9c86-8ebf-4c06-9c82-0e306de59284",
   "metadata": {},
   "source": [
    "Hongyu's analysis was the aggregated income housing for each neighborhood in 12-month range. One of the most fundamental components of the neighborhood quality of life potential is economic vitality. In this project, we capture this dimension using aggregate household income。 The total income earned by all households in a neighborhood over the past 12 months, adjusted to 2015 dollars to account for inflation."
   ]
  },
  {
   "cell_type": "code",
   "execution_count": 5,
   "id": "e884d4d0-744a-4a31-84c7-35428168d21b",
   "metadata": {},
   "outputs": [
    {
     "data": {
      "text/html": [
       "<div>\n",
       "<style scoped>\n",
       "    .dataframe tbody tr th:only-of-type {\n",
       "        vertical-align: middle;\n",
       "    }\n",
       "\n",
       "    .dataframe tbody tr th {\n",
       "        vertical-align: top;\n",
       "    }\n",
       "\n",
       "    .dataframe thead th {\n",
       "        text-align: right;\n",
       "    }\n",
       "</style>\n",
       "<table border=\"1\" class=\"dataframe\">\n",
       "  <thead>\n",
       "    <tr style=\"text-align: right;\">\n",
       "      <th></th>\n",
       "      <th>Neighborhood</th>\n",
       "      <th>IncomeEstimate</th>\n",
       "      <th>IncomeScore</th>\n",
       "    </tr>\n",
       "  </thead>\n",
       "  <tbody>\n",
       "    <tr>\n",
       "      <th>0</th>\n",
       "      <td>Squirrel Hill South</td>\n",
       "      <td>659886300.0</td>\n",
       "      <td>1.000000</td>\n",
       "    </tr>\n",
       "    <tr>\n",
       "      <th>1</th>\n",
       "      <td>Shadyside</td>\n",
       "      <td>605635700.0</td>\n",
       "      <td>0.917489</td>\n",
       "    </tr>\n",
       "    <tr>\n",
       "      <th>2</th>\n",
       "      <td>Squirrel Hill North</td>\n",
       "      <td>577467500.0</td>\n",
       "      <td>0.874648</td>\n",
       "    </tr>\n",
       "    <tr>\n",
       "      <th>3</th>\n",
       "      <td>Brookline</td>\n",
       "      <td>366945900.0</td>\n",
       "      <td>0.554461</td>\n",
       "    </tr>\n",
       "    <tr>\n",
       "      <th>4</th>\n",
       "      <td>Point Breeze</td>\n",
       "      <td>314958500.0</td>\n",
       "      <td>0.475392</td>\n",
       "    </tr>\n",
       "  </tbody>\n",
       "</table>\n",
       "</div>"
      ],
      "text/plain": [
       "          Neighborhood  IncomeEstimate  IncomeScore\n",
       "0  Squirrel Hill South     659886300.0     1.000000\n",
       "1            Shadyside     605635700.0     0.917489\n",
       "2  Squirrel Hill North     577467500.0     0.874648\n",
       "3            Brookline     366945900.0     0.554461\n",
       "4         Point Breeze     314958500.0     0.475392"
      ]
     },
     "execution_count": 5,
     "metadata": {},
     "output_type": "execute_result"
    }
   ],
   "source": [
    "income_score = pd.read_csv(\"income_scores.csv\")\n",
    "\n",
    "income_score.head()"
   ]
  },
  {
   "cell_type": "markdown",
   "id": "fb2cfc2f-e8cd-4761-a713-2c35b74b8ed4",
   "metadata": {},
   "source": [
    "---"
   ]
  },
  {
   "cell_type": "markdown",
   "id": "ac0db15f-5a3e-4ba9-895e-1a4dd2ab821b",
   "metadata": {},
   "source": [
    "## Final Rubric: Neighborhood Quality of Life Potential\n",
    "\n",
    "### The relationship with Incident Levels:\n",
    "\n",
    "Public safety is one of the most immediate and influential aspects of neighborhood livability. In this project, we capture this dimension through incident levels — the total number of reported incidents, including crimes or emergencies, recorded within each neighborhood.\n",
    "\n",
    "Incident levels serve as a direct indicator of neighborhood safety. A higher incident count may signal increased risks to residents, such as theft, violence, or disturbances, whereas a lower count often reflects a safer and more secure living environment. These numbers provide a data-driven basis to assess which neighborhoods may offer more peace of mind and security to their inhabitants.\n",
    "\n",
    "Neighborhoods with lower incident rates tend to provide:\n",
    "\n",
    "- Safer streets and public spaces for residents and children,\n",
    "\n",
    "- Greater appeal for families, students, and long-term investment,\n",
    "\n",
    "- Reduced stress and anxiety related to crime or emergencies,\n",
    "\n",
    "- Higher trust in community and law enforcement presence.\n",
    "\n",
    "Tracking incidents also helps city planners and policymakers identify areas that need improved public safety measures, policing strategies, and social services.\n",
    "\n",
    "In summary, incident levels reflect the safety and stability of a neighborhood, making them a critical factor in evaluating quality of life. A lower frequency of incidents typically corresponds with stronger community resilience, higher property values, and a more desirable place to live.\n",
    "\n",
    "### The relationship with Aggregated Income Housing:\n",
    "One of the most fundamental components of the Neighborhood Quality of Life Potential is economic vitality. In this project, we capture this dimension using aggregate household income — the total income earned by all households in a neighborhood over the past 12 months, adjusted to 2015 dollars to account for inflation.\n",
    "\n",
    "Aggregate income offers a holistic view of a neighborhood’s financial landscape. Rather than focusing on individual wealth or a single household’s income, this metric reflects both the population size and economic strength of the area. A high total income implies a large number of working residents, well-paying jobs, and stronger local purchasing power. All of which contribute to more vibrant and resilient communities.\n",
    "\n",
    "Economically strong neighborhoods are often equipped with:\n",
    "\n",
    "- Higher quality schools, parks, and public facilities,\n",
    "\n",
    "- Well-maintained streets and services,\n",
    "\n",
    "- A robust local business environment with restaurants, shops, and job opportunities,\n",
    "\n",
    "Greater housing stability and long-term investment potential.\n",
    "\n",
    "Compared to median income, which reflects only the income of the \"middle\" household, aggregate income gives us insight into the total economic capacity of the neighborhood, which is how much wealth flows through it and what that means for residents' daily lives.\n",
    "\n",
    "In summary, aggregate household income serves as a critical sign for the resources a community has to support well-being, infrastructure, and opportunity. All are essential for a high quality of life.\n",
    "\n",
    "\n",
    "### The relationship with Neighborhood Traffic Infrastructure: \n",
    "\n",
    "A key indicator of neighborhood safety, navigability, and pedestrian accessibility is the presence and density of traffic signs. In this project, we assess this dimension by counting the number of traffic signs — including stop signs, pedestrian crossings, yield signs, and more — within each neighborhood’s boundaries.\n",
    "\n",
    "The total number of traffic signs offers a proxy for how well-regulated and safe a neighborhood’s transportation environment is. A higher number of traffic signs typically indicates more thoughtful urban planning and a greater emphasis on pedestrian and driver safety. It also suggests clearer traffic guidance, reduced accident risks, and a more walkable community.\n",
    "\n",
    "Neighborhoods with well-developed traffic infrastructure often benefit from:\n",
    "\n",
    "- Enhanced pedestrian safety through visible and enforced crosswalks,\n",
    "\n",
    "- Reduced traffic-related accidents and congestion,\n",
    "\n",
    "- Better mobility for residents, including those walking, biking, or driving,\n",
    "\n",
    "- Stronger adherence to traffic laws and road etiquette.\n",
    "\n",
    "Traffic signs also play a role in increasing accessibility for vulnerable populations such as children, the elderly, and people with disabilities. A neighborhood with robust signage helps support inclusive mobility and community flow.\n",
    "\n",
    "In summary, the density of traffic signs reflects a neighborhood’s investment in public safety and urban infrastructure, making it a vital contributor to the overall quality of life and livability of the area."
   ]
  },
  {
   "cell_type": "markdown",
   "id": "a15a3fa4-1e05-4a89-a0a5-23d78c03ea3d",
   "metadata": {},
   "source": [
    "---"
   ]
  },
  {
   "cell_type": "markdown",
   "id": "7d5d7407-0885-473e-9910-01a5ff1b4f59",
   "metadata": {},
   "source": [
    "**Combining Data Frames** \n",
    "\n",
    "Now we have the scores for each dataset. A higher score stands for fewer incidents, fewer traffic signs, or a higher average income neighborhood. \n",
    "\n",
    "`Next`, we are trying to merge these datasets."
   ]
  },
  {
   "cell_type": "markdown",
   "id": "c5a3635a-7360-4751-9e39-3fda5fe45628",
   "metadata": {},
   "source": [
    "- Rename columns for clarity:"
   ]
  },
  {
   "cell_type": "code",
   "execution_count": 6,
   "id": "a5ae6034-3726-47e6-af1a-61420a7b63e8",
   "metadata": {},
   "outputs": [],
   "source": [
    "crime_safety_score = crime_safety_score.rename(columns={'hood': 'Neighborhood'})\n",
    "traffic_score = traffic_score.rename(columns={'hood': 'Neighborhood'})\n",
    "income_score = income_score.rename(columns={'Neighborhood': 'Neighborhood'})\n"
   ]
  },
  {
   "cell_type": "markdown",
   "id": "38b0f203-5be6-4c21-ac82-5a7b5e6f50e8",
   "metadata": {},
   "source": [
    "- Merge all three scores on neighborhood name:"
   ]
  },
  {
   "cell_type": "code",
   "execution_count": 7,
   "id": "00d94f00-7b48-4923-9a8d-82efc1a3ca19",
   "metadata": {},
   "outputs": [
    {
     "data": {
      "text/html": [
       "<div>\n",
       "<style scoped>\n",
       "    .dataframe tbody tr th:only-of-type {\n",
       "        vertical-align: middle;\n",
       "    }\n",
       "\n",
       "    .dataframe tbody tr th {\n",
       "        vertical-align: top;\n",
       "    }\n",
       "\n",
       "    .dataframe thead th {\n",
       "        text-align: right;\n",
       "    }\n",
       "</style>\n",
       "<table border=\"1\" class=\"dataframe\">\n",
       "  <thead>\n",
       "    <tr style=\"text-align: right;\">\n",
       "      <th></th>\n",
       "      <th>Neighborhood</th>\n",
       "      <th>SafetyScore</th>\n",
       "      <th>TrafficScore</th>\n",
       "      <th>IncomeScore</th>\n",
       "    </tr>\n",
       "  </thead>\n",
       "  <tbody>\n",
       "    <tr>\n",
       "      <th>0</th>\n",
       "      <td>East Carnegie</td>\n",
       "      <td>1.000000</td>\n",
       "      <td>0.972336</td>\n",
       "      <td>0.019096</td>\n",
       "    </tr>\n",
       "    <tr>\n",
       "      <th>1</th>\n",
       "      <td>St. Clair</td>\n",
       "      <td>0.997511</td>\n",
       "      <td>0.988222</td>\n",
       "      <td>0.002248</td>\n",
       "    </tr>\n",
       "    <tr>\n",
       "      <th>2</th>\n",
       "      <td>Ridgemont</td>\n",
       "      <td>0.997348</td>\n",
       "      <td>0.988770</td>\n",
       "      <td>0.008372</td>\n",
       "    </tr>\n",
       "    <tr>\n",
       "      <th>3</th>\n",
       "      <td>New Homestead</td>\n",
       "      <td>0.995976</td>\n",
       "      <td>0.973432</td>\n",
       "      <td>0.037526</td>\n",
       "    </tr>\n",
       "    <tr>\n",
       "      <th>4</th>\n",
       "      <td>Swisshelm Park</td>\n",
       "      <td>0.992946</td>\n",
       "      <td>0.958368</td>\n",
       "      <td>0.061911</td>\n",
       "    </tr>\n",
       "  </tbody>\n",
       "</table>\n",
       "</div>"
      ],
      "text/plain": [
       "     Neighborhood  SafetyScore  TrafficScore  IncomeScore\n",
       "0   East Carnegie     1.000000      0.972336     0.019096\n",
       "1       St. Clair     0.997511      0.988222     0.002248\n",
       "2       Ridgemont     0.997348      0.988770     0.008372\n",
       "3   New Homestead     0.995976      0.973432     0.037526\n",
       "4  Swisshelm Park     0.992946      0.958368     0.061911"
      ]
     },
     "execution_count": 7,
     "metadata": {},
     "output_type": "execute_result"
    }
   ],
   "source": [
    "combined = crime_safety_score.merge(traffic_score[['Neighborhood', 'TrafficScore']], on='Neighborhood', how='inner')\n",
    "combined = combined.merge(income_score[['Neighborhood', 'IncomeScore']], on='Neighborhood', how='inner')\n",
    "\n",
    "combined.head()"
   ]
  },
  {
   "cell_type": "markdown",
   "id": "f2f31590-224b-498a-9dd0-90101cd9d7b3",
   "metadata": {},
   "source": [
    "- Compute a combined score (equal weights)"
   ]
  },
  {
   "cell_type": "code",
   "execution_count": 8,
   "id": "14f619c1-c556-41d8-b457-a80a7ffab053",
   "metadata": {},
   "outputs": [],
   "source": [
    "combined['CombinedScore'] = (combined['SafetyScore'] + combined['TrafficScore'] + combined['IncomeScore']) / 3"
   ]
  },
  {
   "cell_type": "markdown",
   "id": "9b7a9357-703c-45b2-be60-d2de906cb91b",
   "metadata": {},
   "source": [
    "- Sort by CombinedScore descending"
   ]
  },
  {
   "cell_type": "code",
   "execution_count": 9,
   "id": "44d49769-43f0-475b-ab3c-fb541018f397",
   "metadata": {},
   "outputs": [
    {
     "data": {
      "text/html": [
       "<div>\n",
       "<style scoped>\n",
       "    .dataframe tbody tr th:only-of-type {\n",
       "        vertical-align: middle;\n",
       "    }\n",
       "\n",
       "    .dataframe tbody tr th {\n",
       "        vertical-align: top;\n",
       "    }\n",
       "\n",
       "    .dataframe thead th {\n",
       "        text-align: right;\n",
       "    }\n",
       "</style>\n",
       "<table border=\"1\" class=\"dataframe\">\n",
       "  <thead>\n",
       "    <tr style=\"text-align: right;\">\n",
       "      <th></th>\n",
       "      <th>Neighborhood</th>\n",
       "      <th>SafetyScore</th>\n",
       "      <th>TrafficScore</th>\n",
       "      <th>IncomeScore</th>\n",
       "      <th>CombinedScore</th>\n",
       "    </tr>\n",
       "  </thead>\n",
       "  <tbody>\n",
       "    <tr>\n",
       "      <th>61</th>\n",
       "      <td>Squirrel Hill North</td>\n",
       "      <td>0.789264</td>\n",
       "      <td>0.486716</td>\n",
       "      <td>0.874648</td>\n",
       "      <td>0.716876</td>\n",
       "    </tr>\n",
       "    <tr>\n",
       "      <th>40</th>\n",
       "      <td>Point Breeze</td>\n",
       "      <td>0.893300</td>\n",
       "      <td>0.654067</td>\n",
       "      <td>0.475392</td>\n",
       "      <td>0.674253</td>\n",
       "    </tr>\n",
       "    <tr>\n",
       "      <th>4</th>\n",
       "      <td>Swisshelm Park</td>\n",
       "      <td>0.992946</td>\n",
       "      <td>0.958368</td>\n",
       "      <td>0.061911</td>\n",
       "      <td>0.671075</td>\n",
       "    </tr>\n",
       "    <tr>\n",
       "      <th>39</th>\n",
       "      <td>Banksville</td>\n",
       "      <td>0.897578</td>\n",
       "      <td>0.907697</td>\n",
       "      <td>0.206381</td>\n",
       "      <td>0.670552</td>\n",
       "    </tr>\n",
       "    <tr>\n",
       "      <th>3</th>\n",
       "      <td>New Homestead</td>\n",
       "      <td>0.995976</td>\n",
       "      <td>0.973432</td>\n",
       "      <td>0.037526</td>\n",
       "      <td>0.668978</td>\n",
       "    </tr>\n",
       "  </tbody>\n",
       "</table>\n",
       "</div>"
      ],
      "text/plain": [
       "           Neighborhood  SafetyScore  TrafficScore  IncomeScore  CombinedScore\n",
       "61  Squirrel Hill North     0.789264      0.486716     0.874648       0.716876\n",
       "40         Point Breeze     0.893300      0.654067     0.475392       0.674253\n",
       "4        Swisshelm Park     0.992946      0.958368     0.061911       0.671075\n",
       "39           Banksville     0.897578      0.907697     0.206381       0.670552\n",
       "3         New Homestead     0.995976      0.973432     0.037526       0.668978"
      ]
     },
     "execution_count": 9,
     "metadata": {},
     "output_type": "execute_result"
    }
   ],
   "source": [
    "best_hoods = combined.sort_values('CombinedScore', ascending=False)\n",
    "\n",
    "best_hoods.head()"
   ]
  },
  {
   "cell_type": "markdown",
   "id": "ba9f58bf-620d-4829-abf6-3490c5cb5716",
   "metadata": {},
   "source": [
    "## Conclusion: The Best Neighborhood in Pittsburgh\r\n",
    "\r\n",
    "After analyzing three important aspects — **Crime Safety**, **Traffic Infrastructure**, and **Aggregate Household Income** — we computed a combined score for each Pittsburgh neighborhood using scaled values and equal weights for fairness and balance.\r\n",
    "\r\n",
    "According to our final ranking, the top five neighborhoods are:\r\n",
    "\r\n",
    "1. **Squirrel Hill North**  \r\n",
    "2. **Point Breeze**  \r\n",
    "3. **Swisshelm Park**  \r\n",
    "4. **Banksville**  \r\n",
    "5. **New Homestead**\r\n",
    "\r\n",
    "Squirrel Hill North leads with the highest overall score (0.7169), showing a strong balance of safety, traffic infrastructure, and economic strength. While some neighborhoods excel in one area, they may fall short in others. This highlights the value of using a combined metric, which ensures no single factor dominates the outcome.\r\n",
    "\r\n",
    "This approach offers a **data-driven way to identify well-rounded neighborhoods**, helping both residents and decision-makers prioritize areas that perform consistentquality-of-life dimensions.e dimensions.\r\n",
    "ility.\r\n"
   ]
  }
 ],
 "metadata": {
  "kernelspec": {
   "display_name": "Python 3 (ipykernel)",
   "language": "python",
   "name": "python3"
  },
  "language_info": {
   "codemirror_mode": {
    "name": "ipython",
    "version": 3
   },
   "file_extension": ".py",
   "mimetype": "text/x-python",
   "name": "python",
   "nbconvert_exporter": "python",
   "pygments_lexer": "ipython3",
   "version": "3.11.5"
  }
 },
 "nbformat": 4,
 "nbformat_minor": 5
}
